{
 "cells": [
  {
   "cell_type": "code",
   "execution_count": 1,
   "metadata": {},
   "outputs": [],
   "source": [
    "import jax\n",
    "import jax.numpy as jnp\n",
    "from jax import jit, lax, random, vmap, grad, value_and_grad\n",
    "from jax.config import config \n",
    "\n",
    "import numpy as np\n",
    "import matplotlib.pyplot as plt\n",
    "from collections import defaultdict\n",
    "\n",
    "from functools import partial\n",
    "import sys\n",
    "\n",
    "config.update(\"jax_debug_nans\", True)"
   ]
  },
  {
   "cell_type": "code",
   "execution_count": 2,
   "metadata": {},
   "outputs": [
    {
     "name": "stderr",
     "output_type": "stream",
     "text": [
      "WARNING:absl:No GPU/TPU found, falling back to CPU. (Set TF_CPP_MIN_LOG_LEVEL=0 and rerun for more info.)\n"
     ]
    },
    {
     "name": "stdout",
     "output_type": "stream",
     "text": [
      "Compiling...\n",
      "CPU times: user 9.17 s, sys: 135 ms, total: 9.31 s\n",
      "Wall time: 9.3 s\n",
      "done.\n"
     ]
    }
   ],
   "source": [
    "def save(results, app):\n",
    "    if results == {}:\n",
    "        for k in app.keys():\n",
    "            results[k] = app[k]\n",
    "    else:\n",
    "        for k in app.keys():\n",
    "            results[k] = np.concatenate((results[k], app[k]))\n",
    "            \n",
    "def normal_log_prob(x, loc, scale):\n",
    "    log_unnormalized = -0.5 * (x-loc)**2/scale**2\n",
    "    log_normalization = 0.5 * np.log(2.*np.pi) + jnp.log(scale)\n",
    "    return log_unnormalized - log_normalization\n",
    "\n",
    "def linear_quadratic_two_player(A, B1, B2, Q1, Q2, R11, R12, R21, R22):\n",
    "    \"\"\" Generator for linear state dynamics and quadratic costs. \"\"\"\n",
    "    n_state = A.shape[0]\n",
    "    n_act1 = B1.shape[1]\n",
    "    n_act2 = B2.shape[1]\n",
    "    \n",
    "    assert A.shape[0] == A.shape[1], \"A must be square\"\n",
    "    assert B1.shape == (n_state, n_act1), \"B1 is in the wrong shape\"\n",
    "    assert B2.shape == (n_state, n_act2), \"B2 is in the wrong shape\"\n",
    "    assert R11.shape == (n_act1, n_act1), \"R11 is in the wrong shape\"\n",
    "    assert R12.shape == (n_act2, n_act2), \"R12 is in the wrong shape\"\n",
    "    assert R21.shape == (n_act1, n_act1), \"R21 is in the wrong shape\"\n",
    "    assert R22.shape == (n_act2, n_act2), \"R22 is in the wrong shape\"\n",
    "    assert Q1.shape == (n_state, n_state), \"Q1 is in the wrong shape\"\n",
    "    assert Q2.shape == (n_state, n_state), \"Q2 is in the wrong shape\"\n",
    "    \n",
    "    K1 = jnp.zeros(B1.shape).T\n",
    "    K2 = jnp.zeros(B2.shape).T\n",
    "    \n",
    "    def state_dynamics(state, rng, policies, act_std1, act_std2):\n",
    "        noise = random.normal(rng, (n_act1+n_act2,))\n",
    "        w1, w2 = noise[:n_act1], noise[n_act1:]\n",
    "        K1, K2 = policies\n",
    "        \n",
    "        act1 = K1@state + w1*act_std1\n",
    "        act2 = K2@state + w2*act_std2\n",
    "\n",
    "        state = A@state + B1@act1 + B2@act2 \n",
    "\n",
    "        cost1 = state.T@Q1@state + act1.T@R11@act1 + act2.T@R12@act2\n",
    "        cost2 = state.T@Q2@state + act1.T@R21@act1 + act2.T@R22@act2\n",
    "        \n",
    "        state_ = lax.stop_gradient(state)\n",
    "        act1_ = lax.stop_gradient(act1)\n",
    "        act2_ = lax.stop_gradient(act2)\n",
    "        \n",
    "        logp1 = normal_log_prob(K1@state_, loc=act1_, scale=act_std1)\n",
    "        logp2 = normal_log_prob(K2@state_, loc=act2_, scale=act_std2)\n",
    "        \n",
    "        info = dict(state=state,\n",
    "                    costs=(cost1, cost2), \n",
    "                    actions=(act1, act2),\n",
    "                    logp=(logp1, logp2))\n",
    "        \n",
    "        return state, info\n",
    "    \n",
    "    return state_dynamics, (K1, K2)\n",
    "\n",
    "\n",
    "def batch_policy_gradient(dynamics, n_horizon:int, n_samples:int, sample_mode:str):\n",
    "    \"\"\" Two modes supported: exact and logprob \"\"\"\n",
    "\n",
    "    def sample_logp(rng, K1, K2, T=n_horizon, **kwargs):\n",
    "        \"\"\" Sample total costs from one trajectory \"\"\"\n",
    "        rngs = random.split(rng, T+1)\n",
    "        x0 = random.normal(rng, (K1.shape[1],))\n",
    "        _, res = lax.scan(partial(dynamics, policies=(K1, K2), **kwargs), x0, rngs)\n",
    "        cost1 = lax.stop_gradient(res['costs'][0])\n",
    "        cost2 = lax.stop_gradient(res['costs'][1])\n",
    "        logp1, logp2 = res['logp']\n",
    "\n",
    "        return (cost1*logp1).mean(), (cost2*logp2).mean()\n",
    "\n",
    "    def sample_exact(rng, K1, K2, T:int=n_horizon, **kwargs):\n",
    "        \"\"\" Sample total costs from one trajectory \"\"\"\n",
    "        rngs = random.split(rng, T+1)\n",
    "        x0 = random.normal(rng, (K1.shape[1],))\n",
    "        _, res = lax.scan(partial(dynamics, policies=(K1, K2), **kwargs), x0, rngs)\n",
    "        cost1 = res['costs'][0]\n",
    "        cost2 = res['costs'][1]\n",
    "\n",
    "        return cost1.mean(), cost2.mean()\n",
    "\n",
    "    if sample_mode == 'logprob':\n",
    "        sample = sample_logp\n",
    "    elif sample_mode == 'exact':\n",
    "        sample = sample_exact\n",
    "    else:\n",
    "        assert False, \"sample mode '{}' not supported\".format(sample_mode)\n",
    "\n",
    "    def samples1(rng, K1, K2, N:int=n_samples, **kwargs):\n",
    "        \"\"\" Sample average total costs from N trajectories (player 1) \"\"\"\n",
    "        rngs = random.split(rng, N)\n",
    "        loss1, loss2 = vmap(partial(sample, K1=K1, K2=K2, **kwargs))(rngs)\n",
    "        return loss1.mean()\n",
    "\n",
    "    def samples2(rng, K1, K2, N:int=n_samples, **kwargs):\n",
    "        \"\"\" Sample average total costs from N trajectories (player 2) \"\"\"\n",
    "        rngs = random.split(rng, N)\n",
    "        loss1, loss2 = vmap(partial(sample, K1=K1, K2=K2, **kwargs))(rngs)\n",
    "        return loss2.mean()\n",
    "\n",
    "    D1f1 = value_and_grad(samples1, argnums=1)\n",
    "    D2f2 = value_and_grad(samples2, argnums=2)\n",
    "\n",
    "    return D1f1, D2f2\n",
    "\n",
    "def batch_simgrad(game_form, n_iters:int):\n",
    "    D1f1, D2f2 = game_form\n",
    "    \n",
    "    def simgrad(policies, rng, lr1, lr2, **kwargs):\n",
    "        K1, K2 = policies\n",
    "        \n",
    "        loss1, g1 = D1f1(rng, K1, K2, **kwargs)\n",
    "        loss2, g2 = D2f2(rng, K1, K2, **kwargs)\n",
    "\n",
    "        K1 = K1 - lr1*g1\n",
    "        K2 = K2 - lr2*g2\n",
    "\n",
    "        info = dict(K1=K1, K2=K2, \n",
    "                    loss1=loss1, loss2=loss2,\n",
    "                    gradnorm1=jnp.linalg.norm(g1), \n",
    "                    gradnorm2=jnp.linalg.norm(g2))\n",
    "        return (K1, K2), info\n",
    "\n",
    "    def multi_step(rng, policies, N=n_iters, **kwargs):\n",
    "        rngs = random.split(rng, N)\n",
    "        policies, res = lax.scan(partial(simgrad, **kwargs), policies, rngs)\n",
    "        return policies, res\n",
    "    \n",
    "    return jit(multi_step)\n",
    "\n",
    "\n",
    "I = np.eye(2)\n",
    "Ib = np.ones((2,1))\n",
    "Ia = np.ones((1,1))\n",
    "A = 0.9*I\n",
    "B1, B2 = .2*Ib, .05*Ib\n",
    "Q, R1, R2 = 10*I, 1*Ia, -.5*Ia\n",
    "\n",
    "sys1_zs_params = dict(A=A, B1=B1, B2=B2, Q1=Q, Q2=-Q, \n",
    "                      R11=R1, R12=R2, R21=-R1, R22=-R2)\n",
    "batch_pg_params = dict(n_horizon=15, n_samples=32)\n",
    "batch_simgrad_params = dict(n_iters=64)\n",
    "\n",
    "state_dynamics, init_profile = linear_quadratic_two_player(**sys1_zs_params)\n",
    "game_form_exact = batch_policy_gradient(state_dynamics, \n",
    "                                        sample_mode='exact', **batch_pg_params)\n",
    "multi_step_exact = batch_simgrad(game_form_exact, **batch_simgrad_params)\n",
    "\n",
    "# state_dynamics, init_profile = linear_quadratic_two_player(**sys1_zs_params)\n",
    "# game_form_logprob = batch_policy_gradient(state_dynamics, \n",
    "#                                           sample_mode='logprob', **batch_pg_params)\n",
    "# multi_step_logprob = batch_simgrad(game_form_logprob, **batch_simgrad_params)\n",
    "\n",
    "\n",
    "rng = random.PRNGKey(0)\n",
    "dynam_params = dict(act_std1=.1, act_std2=.1)\n",
    "learn_params = dict(lr1=1e-4, lr2=1e-4)\n",
    "print('Compiling...')\n",
    "%time _ = multi_step_exact(rng, init_profile, **dynam_params, **learn_params)\n",
    "# %time _ = multi_step_logprob(rng, init_profile, **dynam_params, **learn_params)\n",
    "print('done.')\n",
    "    "
   ]
  },
  {
   "cell_type": "code",
   "execution_count": 3,
   "metadata": {},
   "outputs": [
    {
     "name": "stdout",
     "output_type": "stream",
     "text": [
      "Running gradient sampling \n",
      "Epoch: 100/100"
     ]
    }
   ],
   "source": [
    "seed = 0\n",
    "n_epoch = 100\n",
    "dynam_params = dict(act_std1=.5, act_std2=.5)\n",
    "learn_params = dict(lr1=1e-2, lr2=1e-2)\n",
    "K1, K2 = init_profile\n",
    "policies_e = K1, K2\n",
    "# policies_l = K1, K2\n",
    "        \n",
    "print('Running gradient sampling ')\n",
    "rng = random.PRNGKey(seed)\n",
    "rngs = random.split(rng, n_epoch)\n",
    "results_e = dict()\n",
    "# results_l = dict()\n",
    "for epoch,rng in enumerate(rngs):\n",
    "    policies_e, res_e = multi_step_exact(rng, policies_e,  **dynam_params, **learn_params)\n",
    "#     policies_l, res_l = multi_step_logprob(rng, policies_l,  **dynam_params, **learn_params)\n",
    "    sys.stdout.write('\\rEpoch: {}/{}'.format(epoch+1, n_epoch))\n",
    "    save(results_e, res_e)\n",
    "#     save(results_l, res_l)"
   ]
  },
  {
   "cell_type": "code",
   "execution_count": 4,
   "metadata": {},
   "outputs": [
    {
     "data": {
      "text/plain": [
       "<matplotlib.legend.Legend at 0x7f87dc75a520>"
      ]
     },
     "execution_count": 4,
     "metadata": {},
     "output_type": "execute_result"
    },
    {
     "data": {
      "image/png": "[encoded data removed]",
      "text/plain": [
       "<Figure size 432x288 with 1 Axes>"
      ]
     },
     "metadata": {
      "needs_background": "light"
     },
     "output_type": "display_data"
    }
   ],
   "source": [
    "plt.plot(results_e['K1'][:,0,1], label=\"K1\")\n",
    "plt.plot(results_e['K2'][:,0,1], label=\"K2\")\n",
    "plt.legend()"
   ]
  },
  {
   "cell_type": "code",
   "execution_count": 5,
   "metadata": {},
   "outputs": [
    {
     "data": {
      "text/plain": [
       "<matplotlib.legend.Legend at 0x7f87dc0ff3a0>"
      ]
     },
     "execution_count": 5,
     "metadata": {},
     "output_type": "execute_result"
    },
    {
     "data": {
      "image/png": "[encoded data removed]",
      "text/plain": [
       "<Figure size 432x288 with 1 Axes>"
      ]
     },
     "metadata": {
      "needs_background": "light"
     },
     "output_type": "display_data"
    }
   ],
   "source": [
    "plt.plot(results_e['gradnorm1'].flatten(), label=\"gradnorm1\")\n",
    "plt.plot(results_e['gradnorm2'].flatten(), label=\"gradnorm2\")\n",
    "plt.legend()"
   ]
  },
  {
   "cell_type": "code",
   "execution_count": 6,
   "metadata": {},
   "outputs": [
    {
     "data": {
      "text/plain": [
       "<matplotlib.legend.Legend at 0x7f87dc0e7fa0>"
      ]
     },
     "execution_count": 6,
     "metadata": {},
     "output_type": "execute_result"
    },
    {
     "data": {
      "image/png": "[encoded data removed]",
      "text/plain": [
       "<Figure size 432x288 with 1 Axes>"
      ]
     },
     "metadata": {
      "needs_background": "light"
     },
     "output_type": "display_data"
    }
   ],
   "source": [
    "plt.plot(results_e['loss1'].flatten(), label=\"gradnorm1\")\n",
    "plt.plot(results_e['loss2'].flatten(), label=\"gradnorm2\")\n",
    "plt.legend()"
   ]
  },
  {
   "cell_type": "code",
   "execution_count": null,
   "metadata": {},
   "outputs": [],
   "source": []
  }
 ],
 "metadata": {
  "kernelspec": {
   "display_name": "Python 3",
   "language": "python",
   "name": "python3"
  },
  "language_info": {
   "codemirror_mode": {
    "name": "ipython",
    "version": 3
   },
   "file_extension": ".py",
   "mimetype": "text/x-python",
   "name": "python",
   "nbconvert_exporter": "python",
   "pygments_lexer": "ipython3",
   "version": "3.8.5"
  },
  "toc": {
   "base_numbering": 1,
   "nav_menu": {},
   "number_sections": true,
   "sideBar": true,
   "skip_h1_title": false,
   "title_cell": "Table of Contents",
   "title_sidebar": "Contents",
   "toc_cell": false,
   "toc_position": {},
   "toc_section_display": true,
   "toc_window_display": false
  }
 },
 "nbformat": 4,
 "nbformat_minor": 4
}
